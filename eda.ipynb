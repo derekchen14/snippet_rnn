{
 "cells": [
  {
   "cell_type": "code",
   "execution_count": 1,
   "metadata": {
    "collapsed": true
   },
   "outputs": [],
   "source": [
    "from spacy.en import English\n",
    "nlp = English()"
   ]
  },
  {
   "cell_type": "code",
   "execution_count": 165,
   "metadata": {
    "collapsed": false
   },
   "outputs": [
    {
     "name": "stdout",
     "output_type": "stream",
     "text": [
      "(65499, 3)\n",
      "(64458, 3)\n",
      "(64434, 3)\n",
      "(10000, 3)\n"
     ]
    }
   ],
   "source": [
    "import time as tm\n",
    "import numpy as np\n",
    "import pandas as pd\n",
    "import re\n",
    "\n",
    "verbose = False\n",
    "np.random.seed(14)\n",
    "input_csv = \"data/snippets.csv\"\n",
    "full = pd.read_csv(input_csv) # , header=None)\n",
    "print full.shape\n",
    "\n",
    "full = full.dropna(axis=0)\n",
    "print full.shape\n",
    "\n",
    "full = full[full['Content'].str.len() < 600]\n",
    "print full.shape\n",
    "\n",
    "full = full[0:10000]\n",
    "print full.shape"
   ]
  },
  {
   "cell_type": "code",
   "execution_count": 170,
   "metadata": {
    "collapsed": false
   },
   "outputs": [
    {
     "name": "stdout",
     "output_type": "stream",
     "text": [
      "10000\n",
      "0\n",
      "2500\n",
      "5000\n",
      "7500\n"
     ]
    }
   ],
   "source": [
    "preX = full['Content']\n",
    "preX = preX.apply(lambda row: row.strip())\n",
    "preX = preX.apply(lambda row: row.replace('-', ' '))\n",
    "parsed = preX.apply(lambda row: nlp(unicode(row, 'utf-8', 'ignore')) )\n",
    "reindexed = parsed.reset_index(drop=True)\n",
    "\n",
    "print len(reindexed)\n",
    "\n",
    "postX = []\n",
    "for idx, sentence in enumerate(preX):\n",
    "    found_entities = []\n",
    "    for ent in reindexed[idx].ents:\n",
    "        if ent.label_ == 'ORG':\n",
    "            found_entities.append( (ent.text.encode('utf-8'), 'ORG') )\n",
    "        if ent.label_ == 'PERSON':\n",
    "            found_entities.append( (ent.text.encode('utf-8'), 'PERSON') )\n",
    "        if ent.label_ == 'MONEY':\n",
    "            found_entities.append( (ent.text.encode('utf-8'), 'MONEY') )\n",
    "    for word in found_entities:\n",
    "        sentence = sentence.replace(word[0], word[1])\n",
    "    postX.append(sentence)\n",
    "    if (idx%2500 == 0):\n",
    "        print idx"
   ]
  },
  {
   "cell_type": "code",
   "execution_count": 171,
   "metadata": {
    "collapsed": false
   },
   "outputs": [
    {
     "name": "stdout",
     "output_type": "stream",
     "text": [
      "10000\n"
     ]
    }
   ],
   "source": [
    "postX = pd.Series(postX)\n",
    "parsed = postX.map(lambda row: nlp(unicode(row, 'utf-8', 'ignore')) )\n",
    "tokenized = parsed.map(lambda row: [token.orth_ for token in row])\n",
    "\n",
    "X = tokenized\n",
    "print len(X)"
   ]
  },
  {
   "cell_type": "code",
   "execution_count": 173,
   "metadata": {
    "collapsed": false
   },
   "outputs": [
    {
     "name": "stdout",
     "output_type": "stream",
     "text": [
      "strategy                  1502\n",
      "funding                   1390\n",
      "key_person_hire            825\n",
      "partnership                818\n",
      "product                    721\n",
      "acquisition                668\n",
      "revenue                    662\n",
      "overview                   447\n",
      "users                      425\n",
      "headcount                  375\n",
      "award                      368\n",
      "valuation                  198\n",
      "turmoil                    170\n",
      "founding                   167\n",
      "customers                  156\n",
      "market                     154\n",
      "geo                        140\n",
      "key_person_departure       131\n",
      "total-funding              121\n",
      "sector                     101\n",
      "conference-sponsorship      75\n",
      "ipo                         74\n",
      "executive-promotion         64\n",
      "competitors                 57\n",
      "event-participant           52\n",
      "office_move                 44\n",
      "lawsuit                     35\n",
      "reorg                       23\n",
      "patent                      17\n",
      "bankruptcy                  10\n",
      "team-grew                    3\n",
      "filing-ipo                   2\n",
      "executive-publication        2\n",
      "job-posting                  2\n",
      "leadership-change            1\n",
      "dtype: int64\n"
     ]
    }
   ],
   "source": [
    "y = full['Tags']\n",
    "\n",
    "y = y.str.split(';').str[0]\n",
    "print y.value_counts()"
   ]
  },
  {
   "cell_type": "code",
   "execution_count": 174,
   "metadata": {
    "collapsed": false,
    "scrolled": true
   },
   "outputs": [
    {
     "name": "stdout",
     "output_type": "stream",
     "text": [
      "21\n",
      "funding        1511\n",
      "strategy       1502\n",
      "hire            825\n",
      "partnership     818\n",
      "product         721\n",
      "acquisition     668\n",
      "revenue         662\n",
      "OTHER           468\n",
      "overview        447\n",
      "users           425\n",
      "headcount       375\n",
      "award           368\n",
      "valuation       198\n",
      "turmoil         170\n",
      "founding        167\n",
      "customers       156\n",
      "market          154\n",
      "departure       131\n",
      "sector          101\n",
      "ipo              76\n",
      "competitors      57\n",
      "dtype: int64\n"
     ]
    }
   ],
   "source": [
    "y = y.str.replace('total-', '')\n",
    "y = y.str.replace('filing-', '')\n",
    "y = y.str.replace('key_person_', '')\n",
    "\n",
    "y = y.str.replace('lawsuit', 'OTHER')\n",
    "y = y.str.replace('office_move', 'OTHER')\n",
    "y = y.str.replace('geo', 'OTHER')\n",
    "y = y.str.replace('reorg', 'OTHER')\n",
    "y = y.str.replace('patent', 'OTHER')\n",
    "y = y.str.replace('conference-sponsorship', 'OTHER')\n",
    "y = y.str.replace('executive-promotion', 'OTHER')\n",
    "y = y.str.replace('bankruptcy', 'OTHER')\n",
    "y = y.str.replace('event-participant', 'OTHER')\n",
    "y = y.str.replace('scale', 'OTHER')\n",
    "y = y.str.replace('team-grew', 'OTHER')\n",
    "y = y.str.replace('executive-publication', 'OTHER')\n",
    "y = y.str.replace('job-posting', 'OTHER')\n",
    "y = y.str.replace('leadership-change', 'OTHER')\n",
    "\n",
    "y = y.fillna('OTHER')\n",
    "jake = y.value_counts()\n",
    "print len(jake)\n",
    "print jake"
   ]
  },
  {
   "cell_type": "code",
   "execution_count": 179,
   "metadata": {
    "collapsed": false
   },
   "outputs": [
    {
     "name": "stdout",
     "output_type": "stream",
     "text": [
      "9990     strategy\n",
      "9991    valuation\n",
      "9992      revenue\n",
      "9993      revenue\n",
      "9994     strategy\n",
      "9995      funding\n",
      "9996     strategy\n",
      "9997      revenue\n",
      "9998       sector\n",
      "Name: Tags, dtype: object\n",
      "9990    [The, ORG, currently, costs, $, MONEY, ,, but,...\n",
      "9991    [ORG, pegged, the, football, organization, 's,...\n",
      "9992    [The, Vikings, brought, in, an, estimated, $, ...\n",
      "9993    [That, 's, compared, to, MONEY, in, revenue, a...\n",
      "9994    [The, organization, enjoyed, a, major, boost, ...\n",
      "9995    [The, makers, of, Vessyl, ,, the, intelligent,...\n",
      "9996    [PERSON, ,, co, founded, by, PERSON, and, indu...\n",
      "9997    [The, company, also, said, it, had, passed, MO...\n",
      "9998    [After, mainstream, social, networks, began, c...\n",
      "dtype: object\n"
     ]
    }
   ],
   "source": [
    "y = y.reset_index(drop=True)"
   ]
  },
  {
   "cell_type": "code",
   "execution_count": 182,
   "metadata": {
    "collapsed": false
   },
   "outputs": [
    {
     "name": "stdout",
     "output_type": "stream",
     "text": [
      "revenue\n",
      "[u'The', u'net', u'proceeds', u'(', u'including', u'promoted', u'interests', u')', u'to', u'PERSON', u'were', u'MONEY', u',', u'which', u'equates', u'to', u'an', u'approximate', u'$', u'35', u'million', u'cash', u'profit', u'on', u'these', u'investments', u'.']\n",
      "users\n",
      "[u'Elite', u'Daily', u'had', u'20.6', u'million', u'unique', u'visitors', u'in', u'December', u'.']\n",
      "users\n",
      "[u'This', u'represents', u'a', u'38', u'%', u'decrease', u'from', u'January', u'of', u'the', u'same', u'year', u'.']\n",
      "users\n",
      "[u'ORG', u'.', u'(', u'ORG', u',', u'ORG', u':', u'ORG', u')', u',', u'a', u'leading', u'provider', u'of', u'security', u'and', u'monetization', u'solutions', u'that', u'enable', u'service', u'providers', u'to', u'protect', u'and', u'personalize', u'the', u'digital', u'experience', u',', u'announced', u'today', u'that', u'it', u'has', u'received', u'orders', u'from', u'four', u'existing', u'tier', u'1', u'mobile', u'operator', u'customers', u'for', u'Allot', u'Smart', u'Data', u'Source', u',', u'a', u'real', u'time', u'network', u'ORG', u'source', u'that', u'captures', u'a', u'rich', u'variety', u'of', u'contextual', u'statistics', u'and', u'facilitates', u'actionable', u'analytical', u'insights', u'to', u'drive', u'customer', u'satisfaction', u'and', u'revenue', u'generation', u'.']\n",
      "product\n",
      "[u'ORG', u'(', u'ORG', u':', u'ORG', u')', u',', u'an', u'industry', u'leader', u'in', u'hard', u'goods', u'and', u'innovative', u'technologies', u',', u'today', u'announced', u'its', u'new', u'Chrome', u'Soft', u'and', u'Superhot', u'55', u'Golf', u'Balls', u'.']\n",
      "product\n",
      "[u'Both', u'products', u'will', u'be', u'available', u'nationwide', u'at', u'retail', u'and', u'online', u'at', u'ORG', u'on', u'February', u'5', u',', u'2016', u'.']\n",
      "acquisition\n",
      "[u'ORG', u',', u'Inc.', u'(', u'\"', u'xG', u'\"', u')', u'(', u'Nasdaq', u':', u'ORG', u',', u'ORGW', u')', u',', u'a', u'leader', u'in', u'providing', u'critical', u'wireless', u'communications', u'for', u'use', u'in', u'challenging', u'operating', u'environments', u',', u'announced', u'today', u'that', u'it', u'has', u'entered', u'into', u'a', u'binding', u'letter', u'of', u'agreement', u'to', u'acquire', u'the', u'assets', u'of', u'Mt.', u'Olive', u',', u'NJ', u'based', u'ORG', u',', u'ORG', u'(', u'\"', u'ORG', u'\"', u')', u'from', u'ORG', u',', u'ORG', u'(', u'\"', u'Skyview', u'\"', u')', u'.']\n",
      "award\n",
      "[u'ORG', u'(', u'ORG', u':', u'CEVA', u')', u',', u'today', u'announced', u'that', u'its', u'fourth', u'generation', u'imaging', u'and', u'vision', u'DSP', u',', u'the', u'CEVA', u'XM4', u'intelligent', u'vision', u'processor', u',', u'has', u'been', u'named', u'\"', u'ORG', u'of', u'2015', u'\"', u'by', u'semiconductor', u'industry', u'technology', u'analyst', u',', u'ORG.']\n",
      "award\n",
      "[u'ORG', u\"'s\", u'\"', u'Best', u'Processor', u'IP', u'\"', u'category', u'covers', u'a', u'broad', u'range', u'of', u'licensable', u'processor', u'cores', u'including', u'CPUs', u',', u'DSPs', u',', u'GPUs', u',', u'VPUs', u'and', u'ORG.']\n",
      "partnership\n",
      "[u'Today', u'ClassDojo', u'and', u'ORG', u'ORG', u'That', u'Scales', u'(', u'PERTS', u')', u'announced', u'a', u'partnership', u'to', u'help', u'millions', u'of', u'students', u'learn', u'about', u\"'\", u'growth', u'mindset', u\"'\", u'in', u'their', u'classrooms', u'.']\n"
     ]
    }
   ],
   "source": [
    "for i in xrange(10):\n",
    "    print y[190+i]\n",
    "    print X[190+i]"
   ]
  },
  {
   "cell_type": "code",
   "execution_count": 176,
   "metadata": {
    "collapsed": false
   },
   "outputs": [
    {
     "name": "stdout",
     "output_type": "stream",
     "text": [
      "(10000,)\n",
      "(10000,)\n",
      "(10131, 2)\n"
     ]
    }
   ],
   "source": [
    "print y.shape\n",
    "y.name=\"Tags\"\n",
    "print X.shape\n",
    "data = pd.concat([X, y], axis=1)\n",
    "print data.shape"
   ]
  },
  {
   "cell_type": "code",
   "execution_count": 25,
   "metadata": {
    "collapsed": false
   },
   "outputs": [
    {
     "name": "stdout",
     "output_type": "stream",
     "text": [
      "[u'[', u'Update', u'3:30pm', u'PST', u':', u'Another', u'source', u'now', u'tells', u'us', u'LiveRail', u'sold', u'for', u'$', u'500', u'million', u',', u'matching', u'the', u'$', u'400', u'million', u'to', u'$', u'500', u'million', u'range', u'I', u'reported', u'earlier', u'.', u']']\n",
      "[u'\\u201c', u'If', u'you', u'are', u'selling', u'a', u'product', u'for', u'$', u'12', u'and', u'you', u'see', u'your', u'competitor', u'is', u'selling', u'it', u'for', u'$', u'11.50', u'so', u'you', u'drop', u'your', u'price', u'to', u'$', u'11.49', u'you', u'have', u'not', u'accomplished', u'anything', u'except', u'starting', u'a', u'price', u'war', u',', u'\\u201d', u'he', u'says', u'.']\n",
      "[u'FirstBank', u\"'s\", u'net', u'income', u'for', u'full', u'-', u'year', u'2015', u'increased', u'to', u'$', u'177.9', u'million', u'from', u'$', u'175.4', u'million', u'in', u'2014', u'.']\n"
     ]
    }
   ],
   "source": [
    "print data['Content'][8771]\n",
    "print data['Content'][10731]\n",
    "print data['Content'][3451]\n",
    "#  Tricky token parsing: [10731, 37877, 8771, 3451, 42795]"
   ]
  },
  {
   "cell_type": "code",
   "execution_count": 32,
   "metadata": {
    "collapsed": false
   },
   "outputs": [],
   "source": [
    "data.to_pickle('data/training_data.p')"
   ]
  }
 ],
 "metadata": {
  "kernelspec": {
   "display_name": "Python 2",
   "language": "python",
   "name": "python2"
  },
  "language_info": {
   "codemirror_mode": {
    "name": "ipython",
    "version": 2
   },
   "file_extension": ".py",
   "mimetype": "text/x-python",
   "name": "python",
   "nbconvert_exporter": "python",
   "pygments_lexer": "ipython2",
   "version": "2.7.11"
  }
 },
 "nbformat": 4,
 "nbformat_minor": 0
}
