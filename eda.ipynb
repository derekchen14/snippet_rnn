{
 "cells": [
  {
   "cell_type": "code",
   "execution_count": 77,
   "metadata": {
    "collapsed": false
   },
   "outputs": [
    {
     "data": {
      "text/plain": [
       "'\\nParameters:\\n    1. lowercase vs. uppercase\\n    2. categories are 1-vs-all, rather than 20 class softmax\\n    3. filter punctuation vs. keep punctuation as tokens\\n    4. GRU vs. LSTM\\n    5. Let the max_length limit to 500, rather than doing it in EDA\\n    \\nTricky token parsing:\\n    count = [10731, 37877, 8771, 3451, 42795]\\n'"
      ]
     },
     "execution_count": 77,
     "metadata": {},
     "output_type": "execute_result"
    }
   ],
   "source": [
    "'''\n",
    "Parameters:\n",
    "    1. lowercase vs. uppercase\n",
    "    2. categories are 1-vs-all, rather than 20 class softmax\n",
    "    3. filter punctuation vs. keep punctuation as tokens\n",
    "    4. GRU vs. LSTM\n",
    "    4. adam vs. rmsprop\n",
    "    6. Let the max_length limit to 500, rather than doing it in EDA\n",
    "    \n",
    "Tricky token parsing:\n",
    "    count = [10731, 37877, 8771, 3451, 42795]\n",
    "'''"
   ]
  },
  {
   "cell_type": "code",
   "execution_count": 94,
   "metadata": {
    "collapsed": false
   },
   "outputs": [
    {
     "name": "stdout",
     "output_type": "stream",
     "text": [
      "(65499, 3)\n",
      "(64458, 3)\n",
      "(64434, 3)\n"
     ]
    }
   ],
   "source": [
    "import time as tm\n",
    "import numpy as np\n",
    "import pandas as pd\n",
    "\n",
    "verbose = False\n",
    "np.random.seed(14)\n",
    "input_csv = \"snippets.csv\"\n",
    "full = pd.read_csv(input_csv) # , header=None)\n",
    "# features_df, labels_df = feature_label_split(full_df)\n",
    "# unique_labels = findUniqueValues(labels_df)\n",
    "print full.shape\n",
    "\n",
    "full = full.dropna(axis=0)\n",
    "print full.shape\n",
    "\n",
    "full = full[full['Content'].str.len() < 600]\n",
    "print full.shape"
   ]
  },
  {
   "cell_type": "code",
   "execution_count": 95,
   "metadata": {
    "collapsed": false
   },
   "outputs": [
    {
     "name": "stdout",
     "output_type": "stream",
     "text": [
      "0    [Boomerang, Commerce, ,, creators, of, the, fi...\n",
      "1    [Starship, Technologies, ,, the, new, venture,...\n",
      "2    [The, firm, will, launch, a, beta, program, in...\n",
      "3    [PingPad, has, added, task, management, to, it...\n",
      "4    [But, with, this, latest, release, ,, the, goa...\n",
      "Name: Content, dtype: object\n"
     ]
    }
   ],
   "source": [
    "X = full['Content'].apply(lambda row: [x.strip() for x in re.split('(\\W+)?', row) if x.strip()])\n",
    "\n",
    "print X.head()"
   ]
  },
  {
   "cell_type": "code",
   "execution_count": 112,
   "metadata": {
    "collapsed": false
   },
   "outputs": [
    {
     "name": "stdout",
     "output_type": "stream",
     "text": [
      "['But', 'with', 'this', 'latest', 'release', ',', 'the', 'goal', 'is', 'to', 'better', 'organize', 'roles', 'and', 'responsibilities', 'for', 'projects', ',', 'similar', 'to', 'what', 'you', \"'\", 'd', 'receive', 'in', 'Trello', 'and', 'other', 'task', 'management', 'offerings', '.']\n",
      "33\n",
      "<type 'list'>\n"
     ]
    }
   ],
   "source": [
    "print X[4]\n",
    "print len(X[4])\n",
    "print type(X[4])"
   ]
  },
  {
   "cell_type": "code",
   "execution_count": 96,
   "metadata": {
    "collapsed": false
   },
   "outputs": [
    {
     "name": "stdout",
     "output_type": "stream",
     "text": [
      "strategy                  14376\n",
      "funding                    8385\n",
      "overview                   6224\n",
      "revenue                    3932\n",
      "partnership                3661\n",
      "acquisition                3432\n",
      "headcount                  3119\n",
      "users                      3082\n",
      "key_person_hire            3014\n",
      "turmoil                    2313\n",
      "product                    1654\n",
      "valuation                  1347\n",
      "award                      1188\n",
      "market                     1168\n",
      "founding                    913\n",
      "customers                   820\n",
      "sector                      808\n",
      "key_person_departure        788\n",
      "total-funding               777\n",
      "ipo                         762\n",
      "competitors                 720\n",
      "lawsuit                     527\n",
      "office_move                 403\n",
      "geo                         378\n",
      "reorg                       190\n",
      "patent                       90\n",
      "conference-sponsorship       82\n",
      "executive-promotion          69\n",
      "bankruptcy                   69\n",
      "filing-ipo                   65\n",
      "event-participant            52\n",
      "scale                        18\n",
      "team-grew                     3\n",
      "executive-publication         2\n",
      "job-posting                   2\n",
      "leadership-change             1\n",
      "dtype: int64\n"
     ]
    }
   ],
   "source": [
    "y = full['Tags']\n",
    "\n",
    "y = y.str.split(';').str[0]\n",
    "print y.value_counts()"
   ]
  },
  {
   "cell_type": "code",
   "execution_count": 97,
   "metadata": {
    "collapsed": false,
    "scrolled": true
   },
   "outputs": [
    {
     "name": "stdout",
     "output_type": "stream",
     "text": [
      "21\n",
      "strategy       14376\n",
      "funding         9162\n",
      "overview        6224\n",
      "revenue         3932\n",
      "partnership     3661\n",
      "acquisition     3432\n",
      "headcount       3119\n",
      "users           3082\n",
      "hire            3014\n",
      "turmoil         2313\n",
      "OTHER           1886\n",
      "product         1654\n",
      "valuation       1347\n",
      "award           1188\n",
      "market          1168\n",
      "founding         913\n",
      "ipo              827\n",
      "customers        820\n",
      "sector           808\n",
      "departure        788\n",
      "competitors      720\n",
      "dtype: int64\n"
     ]
    }
   ],
   "source": [
    "y = y.str.replace('total-', '')\n",
    "y = y.str.replace('filing-', '')\n",
    "y = y.str.replace('key_person_', '')\n",
    "\n",
    "y = y.str.replace('lawsuit', 'OTHER')\n",
    "y = y.str.replace('office_move', 'OTHER')\n",
    "y = y.str.replace('geo', 'OTHER')\n",
    "y = y.str.replace('reorg', 'OTHER')\n",
    "y = y.str.replace('patent', 'OTHER')\n",
    "y = y.str.replace('conference-sponsorship', 'OTHER')\n",
    "y = y.str.replace('executive-promotion', 'OTHER')\n",
    "y = y.str.replace('bankruptcy', 'OTHER')\n",
    "y = y.str.replace('event-participant', 'OTHER')\n",
    "y = y.str.replace('scale', 'OTHER')\n",
    "y = y.str.replace('team-grew', 'OTHER')\n",
    "y = y.str.replace('executive-publication', 'OTHER')\n",
    "y = y.str.replace('job-posting', 'OTHER')\n",
    "y = y.str.replace('leadership-change', 'OTHER')\n",
    "\n",
    "y = y.fillna('OTHER')\n",
    "jake = y.value_counts()\n",
    "print len(jake)\n",
    "print jake"
   ]
  },
  {
   "cell_type": "code",
   "execution_count": 113,
   "metadata": {
    "collapsed": false
   },
   "outputs": [
    {
     "name": "stdout",
     "output_type": "stream",
     "text": [
      "(64434,)\n",
      "(64434,)\n",
      "(64434, 2)\n"
     ]
    }
   ],
   "source": [
    "print y.shape\n",
    "y.name=\"Tags\"\n",
    "print X.shape\n",
    "ser = [X, y]\n",
    "data = pd.concat([X, y], axis=1)\n",
    "print data.shape"
   ]
  },
  {
   "cell_type": "code",
   "execution_count": 114,
   "metadata": {
    "collapsed": false
   },
   "outputs": [],
   "source": [
    "data.to_pickle('training_data.p')"
   ]
  },
  {
   "cell_type": "code",
   "execution_count": 45,
   "metadata": {
    "collapsed": false
   },
   "outputs": [
    {
     "data": {
      "text/plain": [
       "(48118, 10731, 40586, 32999, 8771, 3451)"
      ]
     },
     "execution_count": 45,
     "metadata": {},
     "output_type": "execute_result"
    }
   ],
   "source": [
    "my_filter = '\"#&()*+-/:;<=>@[\\\\]^_`{|}~'\n",
    "my_filter = '\"#&()*+-/:;<=>@[\\\\]^_`{}~'\n",
    "from keras.preprocessing import text\n",
    "import re\n"
   ]
  },
  {
   "cell_type": "code",
   "execution_count": 58,
   "metadata": {
    "collapsed": false
   },
   "outputs": [
    {
     "name": "stdout",
     "output_type": "stream",
     "text": [
      "42795\n",
      "A role in \"Star Wars: The Force Awakens.\" A ride in Arnold Schwarzenegger's tank. A serenade by John Legend at your wedding. These are just some of the fan experiences that Omaze has offered since its founding in 2012.\n",
      "['A', 'role', 'in', '\"', 'Star', 'Wars', ':', 'The', 'Force', 'Awakens', '.\"', 'A', 'ride', 'in', 'Arnold', 'Schwarzenegger', \"'\", 's', 'tank', '.', 'A', 'serenade', 'by', 'John', 'Legend', 'at', 'your', 'wedding', '.', 'These', 'are', 'just', 'some', 'of', 'the', 'fan', 'experiences', 'that', 'Omaze', 'has', 'offered', 'since', 'its', 'founding', 'in', '2012', '.']\n",
      "founding\n"
     ]
    }
   ],
   "source": [
    "num = np.random.randint(0,60000)\n",
    "print num\n",
    "print X[num]\n",
    "print [x.strip() for x in re.split('(\\W+)?', X[num]) if x.strip()]\n",
    "print y[num]\n",
    "\n"
   ]
  }
 ],
 "metadata": {
  "kernelspec": {
   "display_name": "Python 2",
   "language": "python",
   "name": "python2"
  },
  "language_info": {
   "codemirror_mode": {
    "name": "ipython",
    "version": 2
   },
   "file_extension": ".py",
   "mimetype": "text/x-python",
   "name": "python",
   "nbconvert_exporter": "python",
   "pygments_lexer": "ipython2",
   "version": "2.7.11"
  }
 },
 "nbformat": 4,
 "nbformat_minor": 0
}
