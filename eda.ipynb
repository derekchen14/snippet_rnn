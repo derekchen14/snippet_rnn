{
 "cells": [
  {
   "cell_type": "code",
   "execution_count": 1,
   "metadata": {
    "collapsed": true
   },
   "outputs": [],
   "source": [
    "from spacy.en import English\n",
    "nlp = English()"
   ]
  },
  {
   "cell_type": "code",
   "execution_count": 2,
   "metadata": {
    "collapsed": false
   },
   "outputs": [
    {
     "name": "stdout",
     "output_type": "stream",
     "text": [
      "(65499, 3)\n",
      "(64458, 3)\n",
      "(64434, 3)\n",
      "(10000, 3)\n"
     ]
    }
   ],
   "source": [
    "import time as tm\n",
    "import numpy as np\n",
    "import pandas as pd\n",
    "import re\n",
    "\n",
    "verbose = False\n",
    "np.random.seed(14)\n",
    "input_csv = \"data/snippets.csv\"\n",
    "full = pd.read_csv(input_csv) # , header=None)\n",
    "print full.shape\n",
    "\n",
    "full = full.dropna(axis=0)\n",
    "print full.shape\n",
    "\n",
    "full = full[full['Content'].str.len() < 600]\n",
    "print full.shape\n",
    "\n",
    "full = full[0:10000]\n",
    "print full.shape"
   ]
  },
  {
   "cell_type": "code",
   "execution_count": 3,
   "metadata": {
    "collapsed": false
   },
   "outputs": [
    {
     "name": "stdout",
     "output_type": "stream",
     "text": [
      "10000\n",
      "0\n",
      "2500\n",
      "5000\n",
      "7500\n"
     ]
    }
   ],
   "source": [
    "preX = full['Content']\n",
    "preX = preX.apply(lambda row: row.strip())\n",
    "preX = preX.apply(lambda row: row.replace('-', ' '))\n",
    "parsed = preX.apply(lambda row: nlp(unicode(row, 'utf-8', 'ignore')) )\n",
    "reindexed = parsed.reset_index(drop=True)\n",
    "\n",
    "print len(reindexed)\n",
    "\n",
    "postX = []\n",
    "for idx, sentence in enumerate(preX):\n",
    "    found_entities = []\n",
    "    for ent in reindexed[idx].ents:\n",
    "        if ent.label_ == 'ORG':\n",
    "            found_entities.append( (ent.text.encode('utf-8'), 'ORG') )\n",
    "        if ent.label_ == 'PERSON':\n",
    "            found_entities.append( (ent.text.encode('utf-8'), 'PERSON') )\n",
    "        if ent.label_ == 'MONEY':\n",
    "            found_entities.append( (ent.text.encode('utf-8'), 'MONEY') )\n",
    "    for word in found_entities:\n",
    "        sentence = sentence.replace(word[0], word[1])\n",
    "    postX.append(sentence)\n",
    "    if (idx%2500 == 0):\n",
    "        print idx"
   ]
  },
  {
   "cell_type": "code",
   "execution_count": 4,
   "metadata": {
    "collapsed": false
   },
   "outputs": [
    {
     "name": "stdout",
     "output_type": "stream",
     "text": [
      "10000\n"
     ]
    }
   ],
   "source": [
    "postX = pd.Series(postX)\n",
    "parsed = postX.map(lambda row: nlp(unicode(row, 'utf-8', 'ignore')) )\n",
    "tokenized = parsed.map(lambda row: [token.orth_ for token in row])\n",
    "\n",
    "X = tokenized\n",
    "print len(X)"
   ]
  },
  {
   "cell_type": "code",
   "execution_count": 5,
   "metadata": {
    "collapsed": false
   },
   "outputs": [
    {
     "name": "stdout",
     "output_type": "stream",
     "text": [
      "strategy                  1502\n",
      "funding                   1390\n",
      "key_person_hire            825\n",
      "partnership                818\n",
      "product                    721\n",
      "acquisition                668\n",
      "revenue                    662\n",
      "overview                   447\n",
      "users                      425\n",
      "headcount                  375\n",
      "award                      368\n",
      "valuation                  198\n",
      "turmoil                    170\n",
      "founding                   167\n",
      "customers                  156\n",
      "market                     154\n",
      "geo                        140\n",
      "key_person_departure       131\n",
      "total-funding              121\n",
      "sector                     101\n",
      "conference-sponsorship      75\n",
      "ipo                         74\n",
      "executive-promotion         64\n",
      "competitors                 57\n",
      "event-participant           52\n",
      "office_move                 44\n",
      "lawsuit                     35\n",
      "reorg                       23\n",
      "patent                      17\n",
      "bankruptcy                  10\n",
      "team-grew                    3\n",
      "filing-ipo                   2\n",
      "executive-publication        2\n",
      "job-posting                  2\n",
      "leadership-change            1\n",
      "dtype: int64\n"
     ]
    }
   ],
   "source": [
    "y = full['Tags']\n",
    "\n",
    "y = y.str.split(';').str[0]\n",
    "print y.value_counts()"
   ]
  },
  {
   "cell_type": "code",
   "execution_count": 6,
   "metadata": {
    "collapsed": false,
    "scrolled": true
   },
   "outputs": [
    {
     "name": "stdout",
     "output_type": "stream",
     "text": [
      "21\n",
      "funding        1511\n",
      "strategy       1502\n",
      "hire            825\n",
      "partnership     818\n",
      "product         721\n",
      "acquisition     668\n",
      "revenue         662\n",
      "OTHER           468\n",
      "overview        447\n",
      "users           425\n",
      "headcount       375\n",
      "award           368\n",
      "valuation       198\n",
      "turmoil         170\n",
      "founding        167\n",
      "customers       156\n",
      "market          154\n",
      "departure       131\n",
      "sector          101\n",
      "ipo              76\n",
      "competitors      57\n",
      "dtype: int64\n"
     ]
    }
   ],
   "source": [
    "y = y.str.replace('total-', '')\n",
    "y = y.str.replace('filing-', '')\n",
    "y = y.str.replace('key_person_', '')\n",
    "\n",
    "y = y.str.replace('lawsuit', 'OTHER')\n",
    "y = y.str.replace('office_move', 'OTHER')\n",
    "y = y.str.replace('geo', 'OTHER')\n",
    "y = y.str.replace('reorg', 'OTHER')\n",
    "y = y.str.replace('patent', 'OTHER')\n",
    "y = y.str.replace('conference-sponsorship', 'OTHER')\n",
    "y = y.str.replace('executive-promotion', 'OTHER')\n",
    "y = y.str.replace('bankruptcy', 'OTHER')\n",
    "y = y.str.replace('event-participant', 'OTHER')\n",
    "y = y.str.replace('scale', 'OTHER')\n",
    "y = y.str.replace('team-grew', 'OTHER')\n",
    "y = y.str.replace('executive-publication', 'OTHER')\n",
    "y = y.str.replace('job-posting', 'OTHER')\n",
    "y = y.str.replace('leadership-change', 'OTHER')\n",
    "\n",
    "y = y.fillna('OTHER')\n",
    "jake = y.value_counts()\n",
    "print len(jake)\n",
    "print jake"
   ]
  },
  {
   "cell_type": "code",
   "execution_count": 7,
   "metadata": {
    "collapsed": false
   },
   "outputs": [],
   "source": [
    "y = y.reset_index(drop=True)"
   ]
  },
  {
   "cell_type": "code",
   "execution_count": 8,
   "metadata": {
    "collapsed": false
   },
   "outputs": [
    {
     "name": "stdout",
     "output_type": "stream",
     "text": [
      "revenue\n",
      "[u'The', u'net', u'proceeds', u'(', u'including', u'promoted', u'interests', u')', u'to', u'PERSON', u'were', u'MONEY', u',', u'which', u'equates', u'to', u'an', u'approximate', u'$', u'35', u'million', u'cash', u'profit', u'on', u'these', u'investments', u'.']\n",
      "users\n",
      "[u'Elite', u'Daily', u'had', u'20.6', u'million', u'unique', u'visitors', u'in', u'December', u'.']\n",
      "users\n",
      "[u'This', u'represents', u'a', u'38', u'%', u'decrease', u'from', u'January', u'of', u'the', u'same', u'year', u'.']\n",
      "users\n",
      "[u'ORG', u'.', u'(', u'ORG', u',', u'ORG', u':', u'ORG', u')', u',', u'a', u'leading', u'provider', u'of', u'security', u'and', u'monetization', u'solutions', u'that', u'enable', u'service', u'providers', u'to', u'protect', u'and', u'personalize', u'the', u'digital', u'experience', u',', u'announced', u'today', u'that', u'it', u'has', u'received', u'orders', u'from', u'four', u'existing', u'tier', u'1', u'mobile', u'operator', u'customers', u'for', u'Allot', u'Smart', u'Data', u'Source', u',', u'a', u'real', u'time', u'network', u'ORG', u'source', u'that', u'captures', u'a', u'rich', u'variety', u'of', u'contextual', u'statistics', u'and', u'facilitates', u'actionable', u'analytical', u'insights', u'to', u'drive', u'customer', u'satisfaction', u'and', u'revenue', u'generation', u'.']\n",
      "product\n",
      "[u'ORG', u'(', u'ORG', u':', u'ORG', u')', u',', u'an', u'industry', u'leader', u'in', u'hard', u'goods', u'and', u'innovative', u'technologies', u',', u'today', u'announced', u'its', u'new', u'Chrome', u'Soft', u'and', u'Superhot', u'55', u'Golf', u'Balls', u'.']\n",
      "product\n",
      "[u'Both', u'products', u'will', u'be', u'available', u'nationwide', u'at', u'retail', u'and', u'online', u'at', u'ORG', u'on', u'February', u'5', u',', u'2016', u'.']\n",
      "acquisition\n",
      "[u'ORG', u',', u'Inc.', u'(', u'\"', u'xG', u'\"', u')', u'(', u'Nasdaq', u':', u'ORG', u',', u'ORGW', u')', u',', u'a', u'leader', u'in', u'providing', u'critical', u'wireless', u'communications', u'for', u'use', u'in', u'challenging', u'operating', u'environments', u',', u'announced', u'today', u'that', u'it', u'has', u'entered', u'into', u'a', u'binding', u'letter', u'of', u'agreement', u'to', u'acquire', u'the', u'assets', u'of', u'Mt.', u'Olive', u',', u'NJ', u'based', u'ORG', u',', u'ORG', u'(', u'\"', u'ORG', u'\"', u')', u'from', u'ORG', u',', u'ORG', u'(', u'\"', u'Skyview', u'\"', u')', u'.']\n",
      "award\n",
      "[u'ORG', u'(', u'ORG', u':', u'CEVA', u')', u',', u'today', u'announced', u'that', u'its', u'fourth', u'generation', u'imaging', u'and', u'vision', u'DSP', u',', u'the', u'CEVA', u'XM4', u'intelligent', u'vision', u'processor', u',', u'has', u'been', u'named', u'\"', u'ORG', u'of', u'2015', u'\"', u'by', u'semiconductor', u'industry', u'technology', u'analyst', u',', u'ORG.']\n",
      "award\n",
      "[u'ORG', u\"'s\", u'\"', u'Best', u'Processor', u'IP', u'\"', u'category', u'covers', u'a', u'broad', u'range', u'of', u'licensable', u'processor', u'cores', u'including', u'CPUs', u',', u'DSPs', u',', u'GPUs', u',', u'VPUs', u'and', u'ORG.']\n",
      "partnership\n",
      "[u'Today', u'ClassDojo', u'and', u'ORG', u'ORG', u'That', u'Scales', u'(', u'PERTS', u')', u'announced', u'a', u'partnership', u'to', u'help', u'millions', u'of', u'students', u'learn', u'about', u\"'\", u'growth', u'mindset', u\"'\", u'in', u'their', u'classrooms', u'.']\n"
     ]
    }
   ],
   "source": [
    "for i in xrange(10):\n",
    "    print y[190+i]\n",
    "    print X[190+i]"
   ]
  },
  {
   "cell_type": "code",
   "execution_count": 12,
   "metadata": {
    "collapsed": false
   },
   "outputs": [
    {
     "name": "stdout",
     "output_type": "stream",
     "text": [
      "(10000,)\n",
      "(10000,)\n",
      "(10000, 2)\n"
     ]
    }
   ],
   "source": [
    "print y.shape\n",
    "y.name=\"Tags\"\n",
    "print X.shape\n",
    "X.name=\"Content\"\n",
    "data = pd.concat([X, y], axis=1)\n",
    "print data.shape"
   ]
  },
  {
   "cell_type": "code",
   "execution_count": 10,
   "metadata": {
    "collapsed": false
   },
   "outputs": [
    {
     "name": "stdout",
     "output_type": "stream",
     "text": [
      "market\n"
     ]
    },
    {
     "ename": "KeyError",
     "evalue": "10731",
     "output_type": "error",
     "traceback": [
      "\u001b[0;31m---------------------------------------------------------------------------\u001b[0m",
      "\u001b[0;31mKeyError\u001b[0m                                  Traceback (most recent call last)",
      "\u001b[0;32m<ipython-input-10-14c5f1fba72b>\u001b[0m in \u001b[0;36m<module>\u001b[0;34m()\u001b[0m\n\u001b[1;32m      1\u001b[0m \u001b[0;32mprint\u001b[0m \u001b[0mdata\u001b[0m\u001b[0;34m[\u001b[0m\u001b[0;34m'Content'\u001b[0m\u001b[0;34m]\u001b[0m\u001b[0;34m[\u001b[0m\u001b[0;36m8771\u001b[0m\u001b[0;34m]\u001b[0m\u001b[0;34m\u001b[0m\u001b[0m\n\u001b[0;32m----> 2\u001b[0;31m \u001b[0;32mprint\u001b[0m \u001b[0mdata\u001b[0m\u001b[0;34m[\u001b[0m\u001b[0;34m'Content'\u001b[0m\u001b[0;34m]\u001b[0m\u001b[0;34m[\u001b[0m\u001b[0;36m10731\u001b[0m\u001b[0;34m]\u001b[0m\u001b[0;34m\u001b[0m\u001b[0m\n\u001b[0m\u001b[1;32m      3\u001b[0m \u001b[0;32mprint\u001b[0m \u001b[0mdata\u001b[0m\u001b[0;34m[\u001b[0m\u001b[0;34m'Content'\u001b[0m\u001b[0;34m]\u001b[0m\u001b[0;34m[\u001b[0m\u001b[0;36m3451\u001b[0m\u001b[0;34m]\u001b[0m\u001b[0;34m\u001b[0m\u001b[0m\n\u001b[1;32m      4\u001b[0m \u001b[0;31m#  Tricky token parsing: [10731, 37877, 8771, 3451, 42795]\u001b[0m\u001b[0;34m\u001b[0m\u001b[0;34m\u001b[0m\u001b[0m\n",
      "\u001b[0;32m/Users/derekchen/Applications/anaconda/lib/python2.7/site-packages/pandas/core/series.pyc\u001b[0m in \u001b[0;36m__getitem__\u001b[0;34m(self, key)\u001b[0m\n\u001b[1;32m    555\u001b[0m     \u001b[0;32mdef\u001b[0m \u001b[0m__getitem__\u001b[0m\u001b[0;34m(\u001b[0m\u001b[0mself\u001b[0m\u001b[0;34m,\u001b[0m \u001b[0mkey\u001b[0m\u001b[0;34m)\u001b[0m\u001b[0;34m:\u001b[0m\u001b[0;34m\u001b[0m\u001b[0m\n\u001b[1;32m    556\u001b[0m         \u001b[0;32mtry\u001b[0m\u001b[0;34m:\u001b[0m\u001b[0;34m\u001b[0m\u001b[0m\n\u001b[0;32m--> 557\u001b[0;31m             \u001b[0mresult\u001b[0m \u001b[0;34m=\u001b[0m \u001b[0mself\u001b[0m\u001b[0;34m.\u001b[0m\u001b[0mindex\u001b[0m\u001b[0;34m.\u001b[0m\u001b[0mget_value\u001b[0m\u001b[0;34m(\u001b[0m\u001b[0mself\u001b[0m\u001b[0;34m,\u001b[0m \u001b[0mkey\u001b[0m\u001b[0;34m)\u001b[0m\u001b[0;34m\u001b[0m\u001b[0m\n\u001b[0m\u001b[1;32m    558\u001b[0m \u001b[0;34m\u001b[0m\u001b[0m\n\u001b[1;32m    559\u001b[0m             \u001b[0;32mif\u001b[0m \u001b[0;32mnot\u001b[0m \u001b[0mnp\u001b[0m\u001b[0;34m.\u001b[0m\u001b[0misscalar\u001b[0m\u001b[0;34m(\u001b[0m\u001b[0mresult\u001b[0m\u001b[0;34m)\u001b[0m\u001b[0;34m:\u001b[0m\u001b[0;34m\u001b[0m\u001b[0m\n",
      "\u001b[0;32m/Users/derekchen/Applications/anaconda/lib/python2.7/site-packages/pandas/core/index.pyc\u001b[0m in \u001b[0;36mget_value\u001b[0;34m(self, series, key)\u001b[0m\n\u001b[1;32m   1788\u001b[0m \u001b[0;34m\u001b[0m\u001b[0m\n\u001b[1;32m   1789\u001b[0m         \u001b[0;32mtry\u001b[0m\u001b[0;34m:\u001b[0m\u001b[0;34m\u001b[0m\u001b[0m\n\u001b[0;32m-> 1790\u001b[0;31m             \u001b[0;32mreturn\u001b[0m \u001b[0mself\u001b[0m\u001b[0;34m.\u001b[0m\u001b[0m_engine\u001b[0m\u001b[0;34m.\u001b[0m\u001b[0mget_value\u001b[0m\u001b[0;34m(\u001b[0m\u001b[0ms\u001b[0m\u001b[0;34m,\u001b[0m \u001b[0mk\u001b[0m\u001b[0;34m)\u001b[0m\u001b[0;34m\u001b[0m\u001b[0m\n\u001b[0m\u001b[1;32m   1791\u001b[0m         \u001b[0;32mexcept\u001b[0m \u001b[0mKeyError\u001b[0m \u001b[0;32mas\u001b[0m \u001b[0me1\u001b[0m\u001b[0;34m:\u001b[0m\u001b[0;34m\u001b[0m\u001b[0m\n\u001b[1;32m   1792\u001b[0m             \u001b[0;32mif\u001b[0m \u001b[0mlen\u001b[0m\u001b[0;34m(\u001b[0m\u001b[0mself\u001b[0m\u001b[0;34m)\u001b[0m \u001b[0;34m>\u001b[0m \u001b[0;36m0\u001b[0m \u001b[0;32mand\u001b[0m \u001b[0mself\u001b[0m\u001b[0;34m.\u001b[0m\u001b[0minferred_type\u001b[0m \u001b[0;32min\u001b[0m \u001b[0;34m[\u001b[0m\u001b[0;34m'integer'\u001b[0m\u001b[0;34m,\u001b[0m\u001b[0;34m'boolean'\u001b[0m\u001b[0;34m]\u001b[0m\u001b[0;34m:\u001b[0m\u001b[0;34m\u001b[0m\u001b[0m\n",
      "\u001b[0;32mpandas/index.pyx\u001b[0m in \u001b[0;36mpandas.index.IndexEngine.get_value (pandas/index.c:3204)\u001b[0;34m()\u001b[0m\n",
      "\u001b[0;32mpandas/index.pyx\u001b[0m in \u001b[0;36mpandas.index.IndexEngine.get_value (pandas/index.c:2903)\u001b[0;34m()\u001b[0m\n",
      "\u001b[0;32mpandas/index.pyx\u001b[0m in \u001b[0;36mpandas.index.IndexEngine.get_loc (pandas/index.c:3843)\u001b[0;34m()\u001b[0m\n",
      "\u001b[0;32mpandas/hashtable.pyx\u001b[0m in \u001b[0;36mpandas.hashtable.Int64HashTable.get_item (pandas/hashtable.c:6525)\u001b[0;34m()\u001b[0m\n",
      "\u001b[0;32mpandas/hashtable.pyx\u001b[0m in \u001b[0;36mpandas.hashtable.Int64HashTable.get_item (pandas/hashtable.c:6463)\u001b[0;34m()\u001b[0m\n",
      "\u001b[0;31mKeyError\u001b[0m: 10731"
     ]
    }
   ],
   "source": [
    "# print data['Content'][8771]\n",
    "# print data['Content'][10731]\n",
    "# print data['Content'][3451]\n",
    "#  Tricky token parsing: [10731, 37877, 8771, 3451, 42795]"
   ]
  },
  {
   "cell_type": "code",
   "execution_count": 13,
   "metadata": {
    "collapsed": false
   },
   "outputs": [],
   "source": [
    "data.to_pickle('data/local_data.p')"
   ]
  }
 ],
 "metadata": {
  "kernelspec": {
   "display_name": "Python 2",
   "language": "python",
   "name": "python2"
  },
  "language_info": {
   "codemirror_mode": {
    "name": "ipython",
    "version": 2
   },
   "file_extension": ".py",
   "mimetype": "text/x-python",
   "name": "python",
   "nbconvert_exporter": "python",
   "pygments_lexer": "ipython2",
   "version": "2.7.11"
  }
 },
 "nbformat": 4,
 "nbformat_minor": 0
}
