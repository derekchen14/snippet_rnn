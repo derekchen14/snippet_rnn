{
 "cells": [
  {
   "cell_type": "code",
   "execution_count": 1,
   "metadata": {
    "collapsed": true
   },
   "outputs": [],
   "source": [
    "from spacy.en import English\n",
    "nlp = English()"
   ]
  },
  {
   "cell_type": "code",
   "execution_count": 20,
   "metadata": {
    "collapsed": false
   },
   "outputs": [
    {
     "name": "stdout",
     "output_type": "stream",
     "text": [
      "(65499, 3)\n",
      "(64458, 3)\n",
      "(64434, 3)\n"
     ]
    }
   ],
   "source": [
    "import time as tm\n",
    "import numpy as np\n",
    "import pandas as pd\n",
    "import re\n",
    "\n",
    "verbose = False\n",
    "np.random.seed(14)\n",
    "input_csv = \"data/snippets.csv\"\n",
    "full = pd.read_csv(input_csv) # , header=None)\n",
    "print full.shape\n",
    "\n",
    "full = full.dropna(axis=0)\n",
    "print full.shape\n",
    "\n",
    "full = full[full['Content'].str.len() < 600]\n",
    "print full.shape"
   ]
  },
  {
   "cell_type": "code",
   "execution_count": 21,
   "metadata": {
    "collapsed": false
   },
   "outputs": [],
   "source": [
    "preX = full['Content']\n",
    "preX = preX.apply(lambda row: row.strip())\n",
    "preX = preX.apply(lambda row: row.replace('-', ' '))\n",
    "parsed = preX.apply(lambda row: nlp(unicode(row, 'utf-8', 'ignore')) )\n",
    "reindexed = parsed.reset_index(drop=True)\n",
    "# X = reindexed"
   ]
  },
  {
   "cell_type": "code",
   "execution_count": 22,
   "metadata": {
    "collapsed": false
   },
   "outputs": [
    {
     "name": "stdout",
     "output_type": "stream",
     "text": [
      "0\n",
      "2500\n",
      "5000\n",
      "7500\n",
      "10000\n",
      "12500\n",
      "15000\n",
      "17500\n",
      "20000\n",
      "22500\n",
      "25000\n",
      "27500\n",
      "30000\n",
      "32500\n",
      "35000\n",
      "37500\n",
      "40000\n",
      "42500\n",
      "45000\n",
      "47500\n",
      "50000\n",
      "52500\n",
      "55000\n",
      "57500\n",
      "60000\n",
      "62500\n",
      "64434\n"
     ]
    }
   ],
   "source": [
    "postX = []\n",
    "for idx, sentence in enumerate(preX):\n",
    "    found_entities = []\n",
    "    for ent in reindexed[idx].ents:\n",
    "        if ent.label_ == 'ORG':\n",
    "            found_entities.append( (ent.text.encode('utf-8'), 'ORG') )\n",
    "        if ent.label_ == 'PERSON':\n",
    "            found_entities.append( (ent.text.encode('utf-8'), 'PERSON') )\n",
    "#         if ent.label_ == 'MONEY':\n",
    "#             found_entities.append( (ent.text.encode('utf-8'), 'MONEY') )\n",
    "    for word in found_entities:\n",
    "        sentence = sentence.replace(word[0], word[1])\n",
    "    postX.append(sentence)\n",
    "    if (idx%2500 == 0):\n",
    "        print idx\n",
    "\n",
    "postX = pd.Series(postX)\n",
    "parsed = postX.map(lambda row: nlp(unicode(row, 'utf-8', 'ignore')) )\n",
    "tokenized = parsed.map(lambda row: [token.orth_ for token in row])\n",
    "X = tokenized\n",
    "\n",
    "print len(X)"
   ]
  },
  {
   "cell_type": "code",
   "execution_count": 23,
   "metadata": {
    "collapsed": false
   },
   "outputs": [
    {
     "name": "stdout",
     "output_type": "stream",
     "text": [
      "strategy                  14376\n",
      "funding                    8385\n",
      "overview                   6224\n",
      "revenue                    3932\n",
      "partnership                3661\n",
      "acquisition                3432\n",
      "headcount                  3119\n",
      "users                      3082\n",
      "key_person_hire            3014\n",
      "turmoil                    2313\n",
      "product                    1654\n",
      "valuation                  1347\n",
      "award                      1188\n",
      "market                     1168\n",
      "founding                    913\n",
      "customers                   820\n",
      "sector                      808\n",
      "key_person_departure        788\n",
      "total-funding               777\n",
      "ipo                         762\n",
      "competitors                 720\n",
      "lawsuit                     527\n",
      "office_move                 403\n",
      "geo                         378\n",
      "reorg                       190\n",
      "patent                       90\n",
      "conference-sponsorship       82\n",
      "executive-promotion          69\n",
      "bankruptcy                   69\n",
      "filing-ipo                   65\n",
      "event-participant            52\n",
      "scale                        18\n",
      "team-grew                     3\n",
      "executive-publication         2\n",
      "job-posting                   2\n",
      "leadership-change             1\n",
      "dtype: int64\n"
     ]
    }
   ],
   "source": [
    "y = full['Tags']\n",
    "\n",
    "y = y.str.split(';').str[0]\n",
    "print y.value_counts()"
   ]
  },
  {
   "cell_type": "code",
   "execution_count": 24,
   "metadata": {
    "collapsed": false,
    "scrolled": true
   },
   "outputs": [
    {
     "name": "stdout",
     "output_type": "stream",
     "text": [
      "21\n",
      "strategy       14376\n",
      "funding         9162\n",
      "overview        6224\n",
      "revenue         3932\n",
      "partnership     3661\n",
      "acquisition     3432\n",
      "headcount       3119\n",
      "users           3082\n",
      "hire            3014\n",
      "turmoil         2313\n",
      "OTHER           1886\n",
      "product         1654\n",
      "valuation       1347\n",
      "award           1188\n",
      "market          1168\n",
      "founding         913\n",
      "ipo              827\n",
      "customers        820\n",
      "sector           808\n",
      "departure        788\n",
      "competitors      720\n",
      "dtype: int64\n"
     ]
    }
   ],
   "source": [
    "y = y.str.replace('total-', '')\n",
    "y = y.str.replace('filing-', '')\n",
    "y = y.str.replace('key_person_', '')\n",
    "\n",
    "y = y.str.replace('lawsuit', 'OTHER')\n",
    "y = y.str.replace('office_move', 'OTHER')\n",
    "y = y.str.replace('geo', 'OTHER')\n",
    "y = y.str.replace('reorg', 'OTHER')\n",
    "y = y.str.replace('patent', 'OTHER')\n",
    "y = y.str.replace('conference-sponsorship', 'OTHER')\n",
    "y = y.str.replace('executive-promotion', 'OTHER')\n",
    "y = y.str.replace('bankruptcy', 'OTHER')\n",
    "y = y.str.replace('event-participant', 'OTHER')\n",
    "y = y.str.replace('scale', 'OTHER')\n",
    "y = y.str.replace('team-grew', 'OTHER')\n",
    "y = y.str.replace('executive-publication', 'OTHER')\n",
    "y = y.str.replace('job-posting', 'OTHER')\n",
    "y = y.str.replace('leadership-change', 'OTHER')\n",
    "\n",
    "y = y.fillna('OTHER')\n",
    "jake = y.value_counts()\n",
    "print len(jake)\n",
    "print jake"
   ]
  },
  {
   "cell_type": "code",
   "execution_count": 25,
   "metadata": {
    "collapsed": false
   },
   "outputs": [],
   "source": [
    "y = y.reset_index(drop=True)"
   ]
  },
  {
   "cell_type": "code",
   "execution_count": null,
   "metadata": {
    "collapsed": false
   },
   "outputs": [],
   "source": [
    "print len(X)\n",
    "X = X[len(X[\"Content\"]) <= 100]\n",
    "print len(X)\n",
    "\n",
    "mylist = [len(exp) for exp in X]\n",
    "for j, num in enumerate(mylist):\n",
    "    if (num <= 10):\n",
    "        mylist[j] = 10\n",
    "    if (num <= 20) & (num > 10): \n",
    "        mylist[j] = 20\n",
    "    if (num <= 30) & (num > 20):\n",
    "        mylist[j] = 30\n",
    "    if (num <= 40) & (num > 30):\n",
    "        mylist[j] = 40\n",
    "    if (num <= 50) & (num > 40):\n",
    "        mylist[j] = 50\n",
    "    if (num <= 60) & (num > 50):\n",
    "        mylist[j] = 50\n",
    "    if (num <= 80) & (num > 60):\n",
    "        mylist[j] = 50\n",
    "    if (num > 80): \n",
    "        mylist[j] = 100\n",
    "\n",
    "dfx = X.to_frame(name=\"Content\")\n",
    "dfx[\"nb_tokens\"] = pd.Series([len(exp) for exp in X])\n",
    "parsed.map(lambda row: [token.orth_ for token in row])"
   ]
  },
  {
   "cell_type": "code",
   "execution_count": null,
   "metadata": {
    "collapsed": false
   },
   "outputs": [],
   "source": [
    "lengs = pd.DataFrame({\"token\": mylengs})\n",
    "print lengs.token.value_counts()"
   ]
  },
  {
   "cell_type": "code",
   "execution_count": null,
   "metadata": {
    "collapsed": false
   },
   "outputs": [],
   "source": [
    "bucket_10 = data[ len(data[\"Content\"])<=10 ]\n",
    "bucket_20 = data[ len(data[\"Content\"])<=20 & len(data[\"Content\"])>10 ]\n",
    "bucket_30 = data[ len(data[\"Content\"])<=30 & len(data[\"Content\"])>20 ]\n",
    "bucket_40 = data[ len(data[\"Content\"])<=40 & len(data[\"Content\"])>30 ]\n",
    "bucket_50 = data[ len(data[\"Content\"])<=50 & len(data[\"Content\"])>40 ]\n",
    "bucket_60 = data[ len(data[\"Content\"])<=60 & len(data[\"Content\"])>50 ]\n",
    "bucket_80 = data[ len(data[\"Content\"])<=80 & len(data[\"Content\"])>60 ]\n",
    "bucket_100 = data[ len(data[\"Content\"])>80 ]"
   ]
  },
  {
   "cell_type": "code",
   "execution_count": 26,
   "metadata": {
    "collapsed": false
   },
   "outputs": [
    {
     "name": "stdout",
     "output_type": "stream",
     "text": [
      "revenue\n",
      "[u'The', u'net', u'proceeds', u'(', u'including', u'promoted', u'interests', u')', u'to', u'PERSON', u'were', u'$', u'57', u'million', u',', u'which', u'equates', u'to', u'an', u'approximate', u'$', u'35', u'million', u'cash', u'profit', u'on', u'these', u'investments', u'.']\n",
      "users\n",
      "[u'Elite', u'Daily', u'had', u'20.6', u'million', u'unique', u'visitors', u'in', u'December', u'.']\n",
      "users\n",
      "[u'This', u'represents', u'a', u'38', u'%', u'decrease', u'from', u'January', u'of', u'the', u'same', u'year', u'.']\n",
      "users\n",
      "[u'ORG', u'.', u'(', u'ORG', u',', u'ORG', u':', u'ORG', u')', u',', u'a', u'leading', u'provider', u'of', u'security', u'and', u'monetization', u'solutions', u'that', u'enable', u'service', u'providers', u'to', u'protect', u'and', u'personalize', u'the', u'digital', u'experience', u',', u'announced', u'today', u'that', u'it', u'has', u'received', u'orders', u'from', u'four', u'existing', u'tier', u'1', u'mobile', u'operator', u'customers', u'for', u'Allot', u'Smart', u'Data', u'Source', u',', u'a', u'real', u'time', u'network', u'ORG', u'source', u'that', u'captures', u'a', u'rich', u'variety', u'of', u'contextual', u'statistics', u'and', u'facilitates', u'actionable', u'analytical', u'insights', u'to', u'drive', u'customer', u'satisfaction', u'and', u'revenue', u'generation', u'.']\n",
      "product\n",
      "[u'ORG', u'(', u'ORG', u':', u'ORG', u')', u',', u'an', u'industry', u'leader', u'in', u'hard', u'goods', u'and', u'innovative', u'technologies', u',', u'today', u'announced', u'its', u'new', u'Chrome', u'Soft', u'and', u'Superhot', u'55', u'Golf', u'Balls', u'.']\n",
      "product\n",
      "[u'Both', u'products', u'will', u'be', u'available', u'nationwide', u'at', u'retail', u'and', u'online', u'at', u'ORG', u'on', u'February', u'5', u',', u'2016', u'.']\n",
      "acquisition\n",
      "[u'ORG', u',', u'Inc.', u'(', u'\"', u'xG', u'\"', u')', u'(', u'Nasdaq', u':', u'ORG', u',', u'ORGW', u')', u',', u'a', u'leader', u'in', u'providing', u'critical', u'wireless', u'communications', u'for', u'use', u'in', u'challenging', u'operating', u'environments', u',', u'announced', u'today', u'that', u'it', u'has', u'entered', u'into', u'a', u'binding', u'letter', u'of', u'agreement', u'to', u'acquire', u'the', u'assets', u'of', u'Mt.', u'Olive', u',', u'NJ', u'based', u'ORG', u',', u'ORG', u'(', u'\"', u'ORG', u'\"', u')', u'from', u'ORG', u',', u'ORG', u'(', u'\"', u'Skyview', u'\"', u')', u'.']\n",
      "award\n",
      "[u'ORG', u'(', u'ORG', u':', u'CEVA', u')', u',', u'today', u'announced', u'that', u'its', u'fourth', u'generation', u'imaging', u'and', u'vision', u'DSP', u',', u'the', u'CEVA', u'XM4', u'intelligent', u'vision', u'processor', u',', u'has', u'been', u'named', u'\"', u'ORG', u'of', u'2015', u'\"', u'by', u'semiconductor', u'industry', u'technology', u'analyst', u',', u'ORG.']\n",
      "award\n",
      "[u'ORG', u\"'s\", u'\"', u'Best', u'Processor', u'IP', u'\"', u'category', u'covers', u'a', u'broad', u'range', u'of', u'licensable', u'processor', u'cores', u'including', u'CPUs', u',', u'DSPs', u',', u'GPUs', u',', u'VPUs', u'and', u'ORG.']\n",
      "partnership\n",
      "[u'Today', u'ClassDojo', u'and', u'ORG', u'ORG', u'That', u'Scales', u'(', u'PERTS', u')', u'announced', u'a', u'partnership', u'to', u'help', u'millions', u'of', u'students', u'learn', u'about', u\"'\", u'growth', u'mindset', u\"'\", u'in', u'their', u'classrooms', u'.']\n"
     ]
    }
   ],
   "source": [
    "for i in xrange(10):\n",
    "    print y[190+i]\n",
    "    print X[190+i]"
   ]
  },
  {
   "cell_type": "code",
   "execution_count": 27,
   "metadata": {
    "collapsed": false
   },
   "outputs": [
    {
     "name": "stdout",
     "output_type": "stream",
     "text": [
      "(64434,)\n",
      "(64434,)\n",
      "(64434, 2)\n"
     ]
    }
   ],
   "source": [
    "print y.shape\n",
    "y.name=\"Tags\"\n",
    "print X.shape\n",
    "X.name=\"Content\"\n",
    "data = pd.concat([X, y], axis=1)\n",
    "print data.shape"
   ]
  },
  {
   "cell_type": "code",
   "execution_count": 28,
   "metadata": {
    "collapsed": false
   },
   "outputs": [
    {
     "data": {
      "text/plain": [
       "[u'Point.io',\n",
       " u',',\n",
       " u'a',\n",
       " u'leading',\n",
       " u'ORG',\n",
       " u'and',\n",
       " u'business',\n",
       " u'app',\n",
       " u'development',\n",
       " u'company',\n",
       " u',',\n",
       " u'announces',\n",
       " u'the',\n",
       " u'launch',\n",
       " u'of',\n",
       " u'PERSON',\n",
       " u',',\n",
       " u'a',\n",
       " u'mobile',\n",
       " u'business',\n",
       " u'development',\n",
       " u'platform',\n",
       " u'that',\n",
       " u'allows',\n",
       " u'users',\n",
       " u'to',\n",
       " u'rapidly',\n",
       " u'build',\n",
       " u'enterprise',\n",
       " u'mobile',\n",
       " u'apps',\n",
       " u'in',\n",
       " u'a',\n",
       " u'fraction',\n",
       " u'of',\n",
       " u'the',\n",
       " u'time',\n",
       " u'and',\n",
       " u'cost',\n",
       " u'of',\n",
       " u'traditional',\n",
       " u'methods',\n",
       " u'.']"
      ]
     },
     "execution_count": 28,
     "metadata": {},
     "output_type": "execute_result"
    }
   ],
   "source": [
    "data[\"Content\"][3542]"
   ]
  },
  {
   "cell_type": "code",
   "execution_count": null,
   "metadata": {
    "collapsed": false
   },
   "outputs": [],
   "source": [
    "# print data['Content'][8771]\n",
    "# print data['Content'][10731]\n",
    "# print data['Content'][3451]\n",
    "#  Tricky token parsing: [10731, 37877, 8771, 3451, 42795]"
   ]
  },
  {
   "cell_type": "code",
   "execution_count": 29,
   "metadata": {
    "collapsed": false
   },
   "outputs": [],
   "source": [
    "data.to_pickle('data/orgppl_64k_data.p')"
   ]
  }
 ],
 "metadata": {
  "kernelspec": {
   "display_name": "Python 2",
   "language": "python",
   "name": "python2"
  },
  "language_info": {
   "codemirror_mode": {
    "name": "ipython",
    "version": 2
   },
   "file_extension": ".py",
   "mimetype": "text/x-python",
   "name": "python",
   "nbconvert_exporter": "python",
   "pygments_lexer": "ipython2",
   "version": "2.7.11"
  }
 },
 "nbformat": 4,
 "nbformat_minor": 0
}
